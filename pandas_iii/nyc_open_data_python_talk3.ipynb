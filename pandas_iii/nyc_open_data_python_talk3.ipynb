{
 "metadata": {
  "name": ""
 },
 "nbformat": 3,
 "nbformat_minor": 0,
 "worksheets": [
  {
   "cells": [
    {
     "cell_type": "heading",
     "level": 1,
     "metadata": {},
     "source": [
      "Pandas and the Data Ecosystem"
     ]
    },
    {
     "cell_type": "heading",
     "level": 2,
     "metadata": {},
     "source": [
      "with Some Things I Learned from PyData"
     ]
    },
    {
     "cell_type": "markdown",
     "metadata": {},
     "source": [
      "Today I'm assuming you're familiar with Python and Pandas.  I want to talk about some of the high level things in the SciPy ecosystem."
     ]
    },
    {
     "cell_type": "code",
     "collapsed": false,
     "input": [
      "from IPython.display import YouTubeVideo"
     ],
     "language": "python",
     "metadata": {},
     "outputs": [],
     "prompt_number": 1
    },
    {
     "cell_type": "code",
     "collapsed": false,
     "input": [
      "YouTubeVideo(\"RrPZza_vZ3w\")"
     ],
     "language": "python",
     "metadata": {},
     "outputs": [
      {
       "html": [
        "\n",
        "        <iframe\n",
        "            width=\"400\"\n",
        "            height=300\"\n",
        "            src=\"http://www.youtube.com/embed/RrPZza_vZ3w\"\n",
        "            frameborder=\"0\"\n",
        "            allowfullscreen\n",
        "        ></iframe>\n",
        "        "
       ],
       "metadata": {},
       "output_type": "pyout",
       "prompt_number": 2,
       "text": [
        "<IPython.lib.display.YouTubeVideo at 0x1048b9650>"
       ]
      }
     ],
     "prompt_number": 2
    },
    {
     "cell_type": "code",
     "collapsed": false,
     "input": [
      "YouTubeVideo(\"p8hle-ni-DM\")"
     ],
     "language": "python",
     "metadata": {},
     "outputs": [
      {
       "html": [
        "\n",
        "        <iframe\n",
        "            width=\"400\"\n",
        "            height=300\"\n",
        "            src=\"http://www.youtube.com/embed/p8hle-ni-DM\"\n",
        "            frameborder=\"0\"\n",
        "            allowfullscreen\n",
        "        ></iframe>\n",
        "        "
       ],
       "metadata": {},
       "output_type": "pyout",
       "prompt_number": 3,
       "text": [
        "<IPython.lib.display.YouTubeVideo at 0x1048b96d0>"
       ]
      }
     ],
     "prompt_number": 3
    },
    {
     "cell_type": "heading",
     "level": 3,
     "metadata": {},
     "source": [
      "Anaconda - you should be using it!"
     ]
    },
    {
     "cell_type": "code",
     "collapsed": false,
     "input": [
      "from IPython.core.display import HTML\n",
      "HTML('<iframe src=http://continuum.io/downloads width=700 height=350></iframe>')"
     ],
     "language": "python",
     "metadata": {},
     "outputs": [
      {
       "html": [
        "<iframe src=http://continuum.io/downloads width=700 height=350></iframe>"
       ],
       "metadata": {},
       "output_type": "pyout",
       "prompt_number": 4,
       "text": [
        "<IPython.core.display.HTML at 0x1048b9810>"
       ]
      }
     ],
     "prompt_number": 4
    },
    {
     "cell_type": "markdown",
     "metadata": {},
     "source": [
      "**Some conda commands**\n",
      "\n",
      "conda update conda\n",
      "\n",
      "conda create -n demo python pip\n",
      "\n",
      "source activate demo\n",
      "\n",
      "conda info\n",
      "\n",
      "conda info -e\n",
      "\n",
      "Conda is also used for preparing packages. It is a full replacement for virtualenv and fills in the gaps where pip fails, like with the scipy stack."
     ]
    },
    {
     "cell_type": "heading",
     "level": 2,
     "metadata": {},
     "source": [
      "NumPy"
     ]
    },
    {
     "cell_type": "markdown",
     "metadata": {},
     "source": [
      "Numpy is the basis for the scipy stack. Let's take a look at some of the features."
     ]
    },
    {
     "cell_type": "code",
     "collapsed": false,
     "input": [
      "from IPython.core.display import Image \n",
      "Image(filename='stack.png') "
     ],
     "language": "python",
     "metadata": {},
     "outputs": [
      {
       "metadata": {},
       "output_type": "pyout",
       "png": "[encoded data removed]",
       "prompt_number": 5,
       "text": [
        "<IPython.core.display.Image at 0x1048b9a50>"
       ]
      }
     ],
     "prompt_number": 5
    },
    {
     "cell_type": "code",
     "collapsed": false,
     "input": [
      "import numpy as np"
     ],
     "language": "python",
     "metadata": {},
     "outputs": [],
     "prompt_number": 6
    },
    {
     "cell_type": "raw",
     "metadata": {},
     "source": [
      "The basic datastructure in numpy is the ndarray, an N dimensional array. "
     ]
    },
    {
     "cell_type": "code",
     "collapsed": false,
     "input": [
      "x = np.array([[1, 2, 3], \n",
      "              [4, 5, 6],\n",
      "              [7, 8, 9]])\n",
      "\n",
      "I = np.eye(3)\n",
      "z = np.zeros((3,3))"
     ],
     "language": "python",
     "metadata": {},
     "outputs": [],
     "prompt_number": 7
    },
    {
     "cell_type": "code",
     "collapsed": false,
     "input": [
      "print \"x = \\n\", x, '\\n\\nI = \\n', I, '\\n\\n z = \\n', z"
     ],
     "language": "python",
     "metadata": {},
     "outputs": [
      {
       "output_type": "stream",
       "stream": "stdout",
       "text": [
        "x = \n",
        "[[1 2 3]\n",
        " [4 5 6]\n",
        " [7 8 9]] \n",
        "\n",
        "I = \n",
        "[[ 1.  0.  0.]\n",
        " [ 0.  1.  0.]\n",
        " [ 0.  0.  1.]] \n",
        "\n",
        " z = \n",
        "[[ 0.  0.  0.]\n",
        " [ 0.  0.  0.]\n",
        " [ 0.  0.  0.]]\n"
       ]
      }
     ],
     "prompt_number": 8
    },
    {
     "cell_type": "raw",
     "metadata": {},
     "source": [
      "In a lot of ways, the ndarray can be treated like a list, but there are some interesting differences. "
     ]
    },
    {
     "cell_type": "raw",
     "metadata": {},
     "source": [
      "You can make an ndarray from a list, but an ndarray can only have one type of data."
     ]
    },
    {
     "cell_type": "code",
     "collapsed": false,
     "input": [
      "integer_list = [1, 2, 3]\n",
      "integer_array = np.array(integer_list)\n",
      "print integer_array\n"
     ],
     "language": "python",
     "metadata": {},
     "outputs": [
      {
       "output_type": "stream",
       "stream": "stdout",
       "text": [
        "[1 2 3]\n"
       ]
      }
     ],
     "prompt_number": 9
    },
    {
     "cell_type": "code",
     "collapsed": false,
     "input": [
      "my_list = [1, 1.0, None]\n",
      "print my_list\n",
      "my_list[-1] = \"one\"\n",
      "print my_list"
     ],
     "language": "python",
     "metadata": {},
     "outputs": [
      {
       "output_type": "stream",
       "stream": "stdout",
       "text": [
        "[1, 1.0, None]\n",
        "[1, 1.0, 'one']\n"
       ]
      }
     ],
     "prompt_number": 10
    },
    {
     "cell_type": "code",
     "collapsed": false,
     "input": [
      "my_array = np.array([1, 2, 3])\n",
      "print my_array\n",
      "my_array[-1] = \"three\""
     ],
     "language": "python",
     "metadata": {},
     "outputs": [
      {
       "ename": "ValueError",
       "evalue": "invalid literal for long() with base 10: 'three'",
       "output_type": "pyerr",
       "traceback": [
        "\u001b[0;31m---------------------------------------------------------------------------\u001b[0m\n\u001b[0;31mValueError\u001b[0m                                Traceback (most recent call last)",
        "\u001b[0;32m<ipython-input-11-a1dd1105d9ae>\u001b[0m in \u001b[0;36m<module>\u001b[0;34m()\u001b[0m\n\u001b[1;32m      1\u001b[0m \u001b[0mmy_array\u001b[0m \u001b[0;34m=\u001b[0m \u001b[0mnp\u001b[0m\u001b[0;34m.\u001b[0m\u001b[0marray\u001b[0m\u001b[0;34m(\u001b[0m\u001b[0;34m[\u001b[0m\u001b[0;36m1\u001b[0m\u001b[0;34m,\u001b[0m \u001b[0;36m2\u001b[0m\u001b[0;34m,\u001b[0m \u001b[0;36m3\u001b[0m\u001b[0;34m]\u001b[0m\u001b[0;34m)\u001b[0m\u001b[0;34m\u001b[0m\u001b[0m\n\u001b[1;32m      2\u001b[0m \u001b[0;32mprint\u001b[0m \u001b[0mmy_array\u001b[0m\u001b[0;34m\u001b[0m\u001b[0m\n\u001b[0;32m----> 3\u001b[0;31m \u001b[0mmy_array\u001b[0m\u001b[0;34m[\u001b[0m\u001b[0;34m-\u001b[0m\u001b[0;36m1\u001b[0m\u001b[0;34m]\u001b[0m \u001b[0;34m=\u001b[0m \u001b[0;34m\"three\"\u001b[0m\u001b[0;34m\u001b[0m\u001b[0m\n\u001b[0m",
        "\u001b[0;31mValueError\u001b[0m: invalid literal for long() with base 10: 'three'"
       ]
      },
      {
       "output_type": "stream",
       "stream": "stdout",
       "text": [
        "[1 2 3]\n"
       ]
      }
     ],
     "prompt_number": 11
    },
    {
     "cell_type": "raw",
     "metadata": {},
     "source": [
      "The other interesting difference is that the ndarray supports \"fancy indexing\"!"
     ]
    },
    {
     "cell_type": "code",
     "collapsed": false,
     "input": [
      "print \"x = \\n\", x\n",
      "y = x[x > 3]\n",
      "print \"y = \\n\", y"
     ],
     "language": "python",
     "metadata": {},
     "outputs": [
      {
       "output_type": "stream",
       "stream": "stdout",
       "text": [
        "x = \n",
        "[[1 2 3]\n",
        " [4 5 6]\n",
        " [7 8 9]]\n",
        "y = \n",
        "[4 5 6 7 8 9]\n"
       ]
      }
     ],
     "prompt_number": 12
    },
    {
     "cell_type": "code",
     "collapsed": false,
     "input": [
      "x[1,:]"
     ],
     "language": "python",
     "metadata": {},
     "outputs": [
      {
       "metadata": {},
       "output_type": "pyout",
       "prompt_number": 13,
       "text": [
        "array([4, 5, 6])"
       ]
      }
     ],
     "prompt_number": 13
    },
    {
     "cell_type": "raw",
     "metadata": {},
     "source": [
      "Many of the functions that operate on ndarrays are written in C or Fortran, which makes them very fast. One common type of function is the ufunc - Universal Function.  This class of functions operate elementwise on the array."
     ]
    },
    {
     "cell_type": "code",
     "collapsed": false,
     "input": [
      "np.add(x,x)"
     ],
     "language": "python",
     "metadata": {},
     "outputs": [
      {
       "metadata": {},
       "output_type": "pyout",
       "prompt_number": 14,
       "text": [
        "array([[ 2,  4,  6],\n",
        "       [ 8, 10, 12],\n",
        "       [14, 16, 18]])"
       ]
      }
     ],
     "prompt_number": 14
    },
    {
     "cell_type": "code",
     "collapsed": false,
     "input": [
      "np.add(x,1)"
     ],
     "language": "python",
     "metadata": {},
     "outputs": [
      {
       "metadata": {},
       "output_type": "pyout",
       "prompt_number": 15,
       "text": [
        "array([[ 2,  3,  4],\n",
        "       [ 5,  6,  7],\n",
        "       [ 8,  9, 10]])"
       ]
      }
     ],
     "prompt_number": 15
    },
    {
     "cell_type": "code",
     "collapsed": false,
     "input": [
      "np.log(x)"
     ],
     "language": "python",
     "metadata": {},
     "outputs": [
      {
       "metadata": {},
       "output_type": "pyout",
       "prompt_number": 16,
       "text": [
        "array([[ 0.        ,  0.69314718,  1.09861229],\n",
        "       [ 1.38629436,  1.60943791,  1.79175947],\n",
        "       [ 1.94591015,  2.07944154,  2.19722458]])"
       ]
      }
     ],
     "prompt_number": 16
    },
    {
     "cell_type": "code",
     "collapsed": false,
     "input": [
      "np.greater(x, 3)"
     ],
     "language": "python",
     "metadata": {},
     "outputs": [
      {
       "metadata": {},
       "output_type": "pyout",
       "prompt_number": 17,
       "text": [
        "array([[False, False, False],\n",
        "       [ True,  True,  True],\n",
        "       [ True,  True,  True]], dtype=bool)"
       ]
      }
     ],
     "prompt_number": 17
    },
    {
     "cell_type": "markdown",
     "metadata": {},
     "source": [
      "Numpy also provides a Matrix data structure.  It's mostly there to make Matlab users feel more at home. "
     ]
    },
    {
     "cell_type": "code",
     "collapsed": false,
     "input": [
      "x = np.matrix([[1, 2, 3],\n",
      "              [4, 5, 6],\n",
      "              [7, 8, 9]])\n",
      "x"
     ],
     "language": "python",
     "metadata": {},
     "outputs": [
      {
       "metadata": {},
       "output_type": "pyout",
       "prompt_number": 18,
       "text": [
        "matrix([[1, 2, 3],\n",
        "        [4, 5, 6],\n",
        "        [7, 8, 9]])"
       ]
      }
     ],
     "prompt_number": 18
    },
    {
     "cell_type": "code",
     "collapsed": false,
     "input": [
      "x * x"
     ],
     "language": "python",
     "metadata": {},
     "outputs": [
      {
       "metadata": {},
       "output_type": "pyout",
       "prompt_number": 19,
       "text": [
        "matrix([[ 30,  36,  42],\n",
        "        [ 66,  81,  96],\n",
        "        [102, 126, 150]])"
       ]
      }
     ],
     "prompt_number": 19
    },
    {
     "cell_type": "code",
     "collapsed": false,
     "input": [
      "y = np.array([[1, 2, 3],\n",
      "              [4, 5, 6],\n",
      "              [7, 8, 9]])\n",
      "y * y"
     ],
     "language": "python",
     "metadata": {},
     "outputs": [
      {
       "metadata": {},
       "output_type": "pyout",
       "prompt_number": 20,
       "text": [
        "array([[ 1,  4,  9],\n",
        "       [16, 25, 36],\n",
        "       [49, 64, 81]])"
       ]
      }
     ],
     "prompt_number": 20
    },
    {
     "cell_type": "heading",
     "level": 2,
     "metadata": {},
     "source": [
      "SciPy"
     ]
    },
    {
     "cell_type": "markdown",
     "metadata": {},
     "source": [
      "\n",
      "SciPy is the core library for scientific computing.  It has modules for:\n",
      "    \n",
      "    Integration (scipy.integrate)\n",
      "\n",
      "    Optimization (scipy.optimize)\n",
      "\n",
      "    Fourier Transforms (scipy.fftpack)\n",
      "\n",
      "    Linear Algebra (scipy.linalg)\n",
      "\n",
      "    Spatial data structures and algorithms (scipy.spatial)\n",
      "\n",
      "    Statistics (scipy.stats)\n",
      "\n",
      "And more!\n",
      "\n",
      "\n",
      "** Linear Algebra **\n",
      "\n",
      "Scipy and Numpy both have the same set of linear algebra functions.  They are mostly identical in name, function and performance.  Numpy does contain some additional functions not exposed by SciPy."
     ]
    },
    {
     "cell_type": "code",
     "collapsed": false,
     "input": [
      "import numpy as np\n",
      "from scipy import linalg as LA\n",
      "\n",
      "#Solve Ax = b\n",
      "A = np.random.rand(5,5)\n",
      "b = np.random.rand(5)\n",
      "\n",
      "x = LA.solve(A,b)\n",
      "print A\n",
      "print x\n",
      "print b"
     ],
     "language": "python",
     "metadata": {},
     "outputs": [
      {
       "output_type": "stream",
       "stream": "stdout",
       "text": [
        "[[ 0.92922464  0.49781215  0.01937578  0.62212312  0.35897636]\n",
        " [ 0.96401938  0.80590361  0.91703878  0.79958259  0.36575606]\n",
        " [ 0.18171917  0.97812798  0.61268685  0.07005332  0.24989442]\n",
        " [ 0.75688208  0.31959706  0.49975434  0.84763035  0.78576249]\n",
        " [ 0.54993672  0.0328287   0.48166429  0.73207162  0.57560584]]\n",
        "[-20.4381976   10.82454188  -9.06526981  29.23856419 -10.32956975]\n",
        "[ 0.70318052  0.30805896  0.78656003  0.1266843   0.20818588]\n"
       ]
      }
     ],
     "prompt_number": 21
    },
    {
     "cell_type": "code",
     "collapsed": false,
     "input": [
      "# Find eigenvalues of A\n",
      "e = LA.eig(A)\n",
      "print e"
     ],
     "language": "python",
     "metadata": {},
     "outputs": [
      {
       "output_type": "stream",
       "stream": "stdout",
       "text": [
        "(array([ 2.80077761+0.j, -0.40934814+0.j, -0.01012884+0.j,  0.85934335+0.j,\n",
        "        0.53040732+0.j]), array([[ 0.39087844,  0.32950893,  0.51420274, -0.52548141, -0.77733774],\n",
        "       [ 0.60909269, -0.57222447, -0.25281505,  0.32953648, -0.00487729],\n",
        "       [ 0.35910487,  0.60007381,  0.21969001,  0.7588856 ,  0.43043274],\n",
        "       [ 0.48035397, -0.00928752, -0.73993232, -0.16311976,  0.27844853],\n",
        "       [ 0.34135596, -0.4514512 ,  0.27552959, -0.11295835,  0.36457691]]))\n"
       ]
      }
     ],
     "prompt_number": 22
    },
    {
     "cell_type": "code",
     "collapsed": false,
     "input": [
      "# QR Decomposition\n",
      "Q, R = LA.qr(A)\n",
      "print Q\n",
      "print R"
     ],
     "language": "python",
     "metadata": {},
     "outputs": [
      {
       "output_type": "stream",
       "stream": "stdout",
       "text": [
        "[[ 0.56539143 -0.08272076 -0.78802579  0.02830417 -0.22738521]\n",
        " [ 0.58656246  0.21663769  0.33182691 -0.69157816  0.14360758]\n",
        " [ 0.11056795  0.90417212  0.05219594  0.3626531  -0.18975197]\n",
        " [ 0.46052872 -0.15712373  0.18134556  0.56206705  0.64375449]\n",
        " [ 0.33461177 -0.32250627  0.48300685  0.2710754  -0.69083079]]\n",
        "[[ 1.64350677  1.02048963  1.00792072  1.46381176  0.99960193]\n",
        " [-0.          0.957002    0.51717374 -0.18418304 -0.03360911]\n",
        " [-0.         -0.          0.64428468  0.28604006  0.27204465]\n",
        " [-0.          0.          0.          0.16491158  0.4455204 ]\n",
        " [-0.          0.         -0.         -0.          0.03167336]]\n"
       ]
      }
     ],
     "prompt_number": 23
    },
    {
     "cell_type": "code",
     "collapsed": false,
     "input": [
      "# LU Decomposition\n",
      "p, l, u = LA.lu(A)\n",
      "print p  # Permutation Matrix\n",
      "print l  # Lower triangular matrix \n",
      "print u  # Upper triangluar matrix"
     ],
     "language": "python",
     "metadata": {},
     "outputs": [
      {
       "output_type": "stream",
       "stream": "stdout",
       "text": [
        "[[ 0.  0.  1.  0.  0.]\n",
        " [ 1.  0.  0.  0.  0.]\n",
        " [ 0.  1.  0.  0.  0.]\n",
        " [ 0.  0.  0.  1.  0.]\n",
        " [ 0.  0.  0.  0.  1.]]\n",
        "[[ 1.          0.          0.          0.          0.        ]\n",
        " [ 0.18850158  1.          0.          0.          0.        ]\n",
        " [ 0.9639066  -0.33768939  1.          0.          0.        ]\n",
        " [ 0.7851316  -0.37901001  0.07477825  1.          0.        ]\n",
        " [ 0.57046231 -0.51670511 -0.25946494  0.93185554  1.        ]]\n",
        "[[ 0.96401938  0.80590361  0.91703878  0.79958259  0.36575606]\n",
        " [ 0.          0.82621388  0.4398236  -0.08066926  0.18094882]\n",
        " [ 0.          0.         -0.71604019 -0.17584096  0.06752617]\n",
        " [ 0.          0.          0.          0.20242742  0.56212777]\n",
        " [ 0.          0.          0.          0.         -0.04584822]]\n"
       ]
      }
     ],
     "prompt_number": 24
    },
    {
     "cell_type": "code",
     "collapsed": false,
     "input": [
      "# Cholesky Factorization\n",
      "B = np.tril(A)  # Make sure B is positive definite!\n",
      "L = LA.cholesky(B)\n",
      "print B\n",
      "print L"
     ],
     "language": "python",
     "metadata": {},
     "outputs": [
      {
       "output_type": "stream",
       "stream": "stdout",
       "text": [
        "[[ 0.92922464  0.          0.          0.          0.        ]\n",
        " [ 0.96401938  0.80590361  0.          0.          0.        ]\n",
        " [ 0.18171917  0.97812798  0.61268685  0.          0.        ]\n",
        " [ 0.75688208  0.31959706  0.49975434  0.84763035  0.        ]\n",
        " [ 0.54993672  0.0328287   0.48166429  0.73207162  0.57560584]]\n",
        "[[ 0.96396299  0.          0.          0.          0.        ]\n",
        " [ 0.          0.89772135  0.          0.          0.        ]\n",
        " [ 0.          0.          0.78274316  0.          0.        ]\n",
        " [ 0.          0.          0.          0.92066842  0.        ]\n",
        " [ 0.          0.          0.          0.          0.75868692]]\n"
       ]
      }
     ],
     "prompt_number": 48
    },
    {
     "cell_type": "code",
     "collapsed": false,
     "input": [
      "U, s, Vh = LA.svd(A)\n",
      "print U\n",
      "print s\n",
      "print Vh"
     ],
     "language": "python",
     "metadata": {},
     "outputs": [
      {
       "output_type": "stream",
       "stream": "stdout",
       "text": [
        "[[-0.39813995  0.20643095 -0.84627344 -0.17386545  0.22904785]\n",
        " [-0.60336264 -0.25342941  0.01908682  0.73012951 -0.19563655]\n",
        " [-0.29637964 -0.79807961  0.10000792 -0.46554494  0.22021438]\n",
        " [-0.50019004  0.32392179  0.24745742 -0.46897601 -0.6030845 ]\n",
        " [-0.37337265  0.38897739  0.46067364  0.00333472  0.7050235 ]]\n",
        "[ 2.89926195  1.020993    0.58722569  0.35114502  0.00867173]\n",
        "[[-0.54820462 -0.39543335 -0.4043862  -0.49950798 -0.36064904]\n",
        " [ 0.25618887 -0.75005975 -0.36057043  0.4203798   0.25504396]\n",
        " [-0.52648798 -0.3642084   0.69468631  0.0728504   0.31979116]\n",
        " [ 0.29781095 -0.29410851  0.42201493  0.13653362 -0.79250918]\n",
        " [-0.5176466   0.24878758 -0.21395113  0.74150117 -0.27303419]]\n"
       ]
      }
     ],
     "prompt_number": 25
    },
    {
     "cell_type": "code",
     "collapsed": false,
     "input": [
      "#Calculate the condition number\n",
      "min(LA.svd(A, compute_uv=0))*min(LA.svd(LA.pinv(A), compute_uv=0))"
     ],
     "language": "python",
     "metadata": {},
     "outputs": [
      {
       "metadata": {},
       "output_type": "pyout",
       "prompt_number": 30,
       "text": [
        "0.0029910123570078698"
       ]
      }
     ],
     "prompt_number": 30
    },
    {
     "cell_type": "code",
     "collapsed": false,
     "input": [
      "#Or an easier way\n",
      "np.linalg.cond(A, -2)  # -2 finds the smallest singular value"
     ],
     "language": "python",
     "metadata": {},
     "outputs": [
      {
       "metadata": {},
       "output_type": "pyout",
       "prompt_number": 32,
       "text": [
        "0.0029910123570078616"
       ]
      }
     ],
     "prompt_number": 32
    },
    {
     "cell_type": "markdown",
     "metadata": {},
     "source": [
      "** Statistics **\n",
      "\n",
      "Unlike the linear algebra functions, there is not a lot of overlap with scipy and numpy with statistical functions.\n",
      "\n",
      "Numpy has mostly summary and order statistics that are applied to an ndarray.\n",
      "\n",
      "SciPy's stats package is much richer."
     ]
    },
    {
     "cell_type": "code",
     "collapsed": false,
     "input": [
      "from scipy import stats\n",
      "import matplotlib.pyplot as plt\n",
      "\n",
      "numargs = stats.lognorm.numargs\n",
      "[ s ] = [0.9,] * numargs\n",
      "rv = stats.lognorm(s)\n",
      "\n",
      "#Display frozen pdf\n",
      "x = np.linspace(0, np.minimum(rv.dist.b, 3))\n",
      "h = plt.plot(x, rv.pdf(x))"
     ],
     "language": "python",
     "metadata": {},
     "outputs": [
      {
       "output_type": "stream",
       "stream": "stderr",
       "text": [
        "/Users/johndowns/Applications/anaconda/lib/python2.7/site-packages/scipy/stats/distributions.py:4658: RuntimeWarning: divide by zero encountered in log\n",
        "  return -log(x)**2 / (2*s**2) + np.where(x == 0, 0, -log(s*x*sqrt(2*pi)))\n"
       ]
      },
      {
       "metadata": {},
       "output_type": "display_data",
       "png": "[encoded data removed]",
       "text": [
        "<matplotlib.figure.Figure at 0x1062bcb90>"
       ]
      }
     ],
     "prompt_number": 53
    },
    {
     "cell_type": "code",
     "collapsed": false,
     "input": [
      "stats.describe?\n",
      "\n",
      "stats.describe(A)"
     ],
     "language": "python",
     "metadata": {},
     "outputs": [
      {
       "metadata": {},
       "output_type": "pyout",
       "prompt_number": 60,
       "text": [
        "(5,\n",
        " (array([ 0.18171917,  0.0328287 ,  0.01937578,  0.07005332,  0.24989442]),\n",
        "  array([ 0.96401938,  0.97812798,  0.91703878,  0.84763035,  0.78576249])),\n",
        " array([ 0.6763564 ,  0.5268539 ,  0.50610401,  0.6142922 ,  0.46719903]),\n",
        " array([ 0.10345616,  0.14234419,  0.10444232,  0.09972712,  0.04561471]),\n",
        " array([-0.69335701, -0.08259186, -0.37031295, -1.24696622,  0.6033557 ]),\n",
        " array([-0.92424084, -1.31969207, -0.57151457, -0.1071196 , -1.06108566]))"
       ]
      }
     ],
     "prompt_number": 60
    },
    {
     "cell_type": "code",
     "collapsed": false,
     "input": [
      "z = stats.zscore(A)  # Calculates the z score of each value in the sample, relative to the sample mean and standard deviation.\n",
      "print z"
     ],
     "language": "python",
     "metadata": {},
     "outputs": [
      {
       "output_type": "stream",
       "stream": "stdout",
       "text": [
        "[[ 0.87896406 -0.0860613  -1.68384956  0.02772435 -0.56652728]\n",
        " [ 0.99990975  0.82692613  1.42164003  0.6559961  -0.53103669]\n",
        " [-1.71934735  1.33728977  0.36872625 -1.92680571 -1.13755266]\n",
        " [ 0.27990536 -0.61417765 -0.02196684  0.82610283  1.66762543]\n",
        " [-0.43943183 -1.46397695 -0.08454988  0.41698244  0.5674912 ]]\n"
       ]
      }
     ],
     "prompt_number": 61
    },
    {
     "cell_type": "code",
     "collapsed": false,
     "input": [
      "x = np.random.randn(10)\n",
      "y = np.random.randn(10)\n",
      "coef, p = stats.pearsonr(x, y)\n",
      "print coef\n",
      "print p"
     ],
     "language": "python",
     "metadata": {},
     "outputs": [
      {
       "output_type": "stream",
       "stream": "stdout",
       "text": [
        "0.585566174753\n",
        "0.0753042348576\n"
       ]
      }
     ],
     "prompt_number": 73
    },
    {
     "cell_type": "markdown",
     "metadata": {},
     "source": [
      "**Scikits**\n",
      "\n",
      "Scikits are extensions to SciPy that are not appropriate for the core library for various reasons.  Two of the most interesting modules are scikit-learn and scikit-image.\n"
     ]
    },
    {
     "cell_type": "code",
     "collapsed": false,
     "input": [
      "from IPython.display import Image\n",
      "Image(url=\"http://scikit-learn.org/stable/_static/ml_map.png\")"
     ],
     "language": "python",
     "metadata": {},
     "outputs": [
      {
       "html": [
        "<img src=\"http://scikit-learn.org/stable/_static/ml_map.png\"/>"
       ],
       "metadata": {},
       "output_type": "pyout",
       "prompt_number": 26,
       "text": [
        "<IPython.core.display.Image at 0x104cfd690>"
       ]
      }
     ],
     "prompt_number": 26
    },
    {
     "cell_type": "markdown",
     "metadata": {},
     "source": [
      "Let's take a look at how scikit-learn supports supervised and unsupervised learning.  \n",
      "\n",
      "Scikit-learn estimators have a uniform interface\n",
      "\n",
      "- Available in **all Estimators**\n",
      "  + `model.fit()` : fit training data. For supervised learning applications,\n",
      "    this accepts two arguments: the data `X` and the labels `y` (e.g. `model.fit(X, y)`).\n",
      "    For unsupervised learning applications, this accepts only a single argument,\n",
      "    the data `X` (e.g. `model.fit(X)`).\n",
      "- Available in **supervised estimators**\n",
      "  + `model.predict()` : given a trained model, predict the label of a new set of data.\n",
      "    This method accepts one argument, the new data `X_new` (e.g. `model.predict(X_new)`),\n",
      "    and returns the learned label for each object in the array.\n",
      "  + `model.predict_proba()` : For classification problems, some estimators also provide\n",
      "    this method, which returns the probability that a new observation has each categorical label.\n",
      "    In this case, the label with the highest probability is returned by `model.predict()`.\n",
      "  + `model.score()` : for classification or regression problems, most (all?) estimators implement\n",
      "    a score method.  Scores are between 0 and 1, with a larger score indicating a better fit.\n",
      "- Available in **unsupervised estimators**\n",
      "  + `model.transform()` : given an unsupervised model, transform new data into the new basis.\n",
      "    This also accepts one argument `X_new`, and returns the new representation of the data based\n",
      "    on the unsupervised model.\n",
      "  + `model.fit_transform()` : some estimators implement this method,\n",
      "    which more efficiently performs a fit and a transform on the same input data.\n"
     ]
    },
    {
     "cell_type": "code",
     "collapsed": false,
     "input": [
      "# The famous Iris dataset\n",
      "from sklearn import neighbors, datasets\n",
      "\n",
      "iris = datasets.load_iris()\n",
      "X, y = iris.data, iris.target\n",
      "\n",
      "print X[:10], \"...\"\n",
      "print y"
     ],
     "language": "python",
     "metadata": {},
     "outputs": [
      {
       "output_type": "stream",
       "stream": "stdout",
       "text": [
        "[[ 5.1  3.5  1.4  0.2]\n",
        " [ 4.9  3.   1.4  0.2]\n",
        " [ 4.7  3.2  1.3  0.2]\n",
        " [ 4.6  3.1  1.5  0.2]\n",
        " [ 5.   3.6  1.4  0.2]\n",
        " [ 5.4  3.9  1.7  0.4]\n",
        " [ 4.6  3.4  1.4  0.3]\n",
        " [ 5.   3.4  1.5  0.2]\n",
        " [ 4.4  2.9  1.4  0.2]\n",
        " [ 4.9  3.1  1.5  0.1]] ...\n",
        "[0 0 0 0 0 0 0 0 0 0 0 0 0 0 0 0 0 0 0 0 0 0 0 0 0 0 0 0 0 0 0 0 0 0 0 0 0\n",
        " 0 0 0 0 0 0 0 0 0 0 0 0 0 1 1 1 1 1 1 1 1 1 1 1 1 1 1 1 1 1 1 1 1 1 1 1 1\n",
        " 1 1 1 1 1 1 1 1 1 1 1 1 1 1 1 1 1 1 1 1 1 1 1 1 1 1 2 2 2 2 2 2 2 2 2 2 2\n",
        " 2 2 2 2 2 2 2 2 2 2 2 2 2 2 2 2 2 2 2 2 2 2 2 2 2 2 2 2 2 2 2 2 2 2 2 2 2\n",
        " 2 2]\n"
       ]
      }
     ],
     "prompt_number": 220
    },
    {
     "cell_type": "code",
     "collapsed": false,
     "input": [
      "# Visualize the data\n",
      "import numpy as np\n",
      "import matplotlib.pyplot as plt\n",
      "\n",
      "x_index = 2\n",
      "y_index = 3\n",
      "\n",
      "# this formatter will label the colorbar with the correct target names\n",
      "formatter = plt.FuncFormatter(lambda i, *args: iris.target_names[int(i)])\n",
      "\n",
      "plt.scatter(iris.data[:, x_index], iris.data[:, y_index],\n",
      "            c=iris.target)\n",
      "plt.colorbar(ticks=[0, 1, 2], format=formatter)\n",
      "plt.xlabel(iris.feature_names[x_index])\n",
      "plt.ylabel(iris.feature_names[y_index]);"
     ],
     "language": "python",
     "metadata": {},
     "outputs": [
      {
       "metadata": {},
       "output_type": "display_data",
       "png": "[encoded data removed]",
       "text": [
        "<matplotlib.figure.Figure at 0x1136ba790>"
       ]
      }
     ],
     "prompt_number": 234
    },
    {
     "cell_type": "code",
     "collapsed": false,
     "input": [
      "# Make a prediction\n",
      "# create the model\n",
      "knn = neighbors.KNeighborsClassifier(n_neighbors=3)\n",
      "\n",
      "# fit the model\n",
      "knn.fit(X, y)\n",
      "\n",
      "# What kind of iris has 3cm x 5cm sepal and 4cm x 2cm petal?\n",
      "# call the \"predict\" method:\n",
      "result = knn.predict([[3, 5, 4, 2],])\n",
      "\n",
      "print iris.target_names[result]\n"
     ],
     "language": "python",
     "metadata": {},
     "outputs": [
      {
       "output_type": "stream",
       "stream": "stdout",
       "text": [
        "['versicolor']\n"
       ]
      }
     ],
     "prompt_number": 226
    },
    {
     "cell_type": "code",
     "collapsed": false,
     "input": [
      "#Exercise: try this with a SVC classifier\n",
      "from sklearn.svm import SVC"
     ],
     "language": "python",
     "metadata": {},
     "outputs": [],
     "prompt_number": 221
    },
    {
     "cell_type": "code",
     "collapsed": false,
     "input": [
      "# Dimensionality Reduction - Principal Component Analysis\n",
      "X, y = iris.data, iris.target\n",
      "from sklearn.decomposition import PCA\n",
      "pca = PCA(n_components=2)\n",
      "pca.fit(X)\n",
      "X_reduced = pca.transform(X)\n",
      "print \"Reduced dataset shape:\", X_reduced.shape\n",
      "\n",
      "import pylab as pl\n",
      "pl.scatter(X_reduced[:, 0], X_reduced[:, 1], c=y)\n",
      "\n",
      "print \"Meaning of the 2 components:\"\n",
      "for component in pca.components_:\n",
      "    print \" + \".join(\"%.3f x %s\" % (value, name)\n",
      "                     for value, name in zip(component,\n",
      "                                            iris.feature_names))"
     ],
     "language": "python",
     "metadata": {},
     "outputs": [
      {
       "output_type": "stream",
       "stream": "stdout",
       "text": [
        "Reduced dataset shape: (150, 2)\n",
        "Meaning of the 2 components:"
       ]
      },
      {
       "output_type": "stream",
       "stream": "stdout",
       "text": [
        "\n",
        "0.362 x sepal length (cm) + -0.082 x sepal width (cm) + 0.857 x petal length (cm) + 0.359 x petal width (cm)\n",
        "-0.657 x sepal length (cm) + -0.730 x sepal width (cm) + 0.176 x petal length (cm) + 0.075 x petal width (cm)\n"
       ]
      },
      {
       "metadata": {},
       "output_type": "display_data",
       "png": "[encoded data removed]",
       "text": [
        "<matplotlib.figure.Figure at 0x10941aa90>"
       ]
      }
     ],
     "prompt_number": 235
    },
    {
     "cell_type": "code",
     "collapsed": false,
     "input": [
      "# Clustering\n",
      "from sklearn.cluster import KMeans\n",
      "k_means = KMeans(n_clusters=3, random_state=0)\n",
      "k_means.fit(X)\n",
      "y_pred = k_means.predict(X)\n",
      "\n",
      "pl.scatter(X_reduced[:, 0], X_reduced[:, 1], c=y_pred);"
     ],
     "language": "python",
     "metadata": {},
     "outputs": [
      {
       "metadata": {},
       "output_type": "display_data",
       "png": "[encoded data removed]",
       "text": [
        "<matplotlib.figure.Figure at 0x11556be10>"
       ]
      }
     ],
     "prompt_number": 236
    },
    {
     "cell_type": "code",
     "collapsed": false,
     "input": [
      "# Validation\n",
      "# Generate an un-balanced 2D dataset\n",
      "np.random.seed(0)\n",
      "X = np.vstack([np.random.normal(0, 1, (950, 2)),\n",
      "               np.random.normal(-1.8, 0.8, (50, 2))])\n",
      "y = np.hstack([np.zeros(950), np.ones(50)])\n",
      "\n",
      "plt.scatter(X[:, 0], X[:, 1], c=y, edgecolors='none',\n",
      "            cmap=plt.cm.Accent)"
     ],
     "language": "python",
     "metadata": {},
     "outputs": [
      {
       "metadata": {},
       "output_type": "pyout",
       "prompt_number": 237,
       "text": [
        "<matplotlib.collections.PathCollection at 0x11556b210>"
       ]
      },
      {
       "metadata": {},
       "output_type": "display_data",
       "png": "[encoded data removed]",
       "text": [
        "<matplotlib.figure.Figure at 0x115564a10>"
       ]
      }
     ],
     "prompt_number": 237
    },
    {
     "cell_type": "code",
     "collapsed": false,
     "input": [
      "from sklearn import metrics\n",
      "from sklearn.svm import SVC\n",
      "from sklearn.cross_validation import train_test_split\n",
      "\n",
      "X_train, X_test, y_train, y_test = train_test_split(X, y, random_state=0)\n",
      "clf = SVC().fit(X_train, y_train)\n",
      "y_pred = clf.predict(X_test)\n",
      "\n",
      "print \"accuracy:\", metrics.accuracy_score(y_test, y_pred)\n",
      "print \"precision:\", metrics.precision_score(y_test, y_pred)\n",
      "print \"recall:\", metrics.recall_score(y_test, y_pred)\n",
      "print \"f1 score:\", metrics.f1_score(y_test, y_pred)"
     ],
     "language": "python",
     "metadata": {},
     "outputs": [
      {
       "output_type": "stream",
       "stream": "stdout",
       "text": [
        "accuracy: 0.968\n",
        "precision: 0.833333333333\n",
        "recall: 0.625\n",
        "f1 score: 0.714285714286\n"
       ]
      }
     ],
     "prompt_number": 239
    },
    {
     "cell_type": "markdown",
     "metadata": {},
     "source": [
      "#### What do these mean?\n",
      "\n",
      "These are ways of taking into account not just the classification results, but the results **relative to the true category**.\n",
      "\n",
      "- $$ {\\rm accuracy} \\equiv \\frac{\\rm correct~labels}{\\rm total~samples} $$\n",
      "\n",
      "- $$ {\\rm precision} \\equiv \\frac{\\rm true~positives}{\\rm true~positives + false~positives} $$\n",
      "\n",
      "- $$ {\\rm recall} \\equiv \\frac{\\rm true~positives}{\\rm true~positives + false~negatives} $$\n",
      "\n",
      "- $$ F_1 \\equiv \\frac{\\rm precision \\cdot recall}{\\rm precision + recall} $$\n",
      "\n",
      "The **accuracy**, **precision**, **recall**, and **f1-score** all range from 0 to 1, with 1 being optimal.\n",
      "Here we've used the following definitions:\n",
      "\n",
      "- *True Positives* are those which are labeled ``1`` which are actually ``1``\n",
      "- *False Positives* are those which are labeled ``1`` which are actually ``0``\n",
      "- *True Negatives* are those which are labeled ``0`` which are actually ``0``\n",
      "- *False Negatives* are those which are labeled ``0`` which are actually ``1``"
     ]
    },
    {
     "cell_type": "code",
     "collapsed": false,
     "input": [
      "X1, X2, y1, y2 = train_test_split(X, y, test_size=0.5)\n",
      "print X1.shape\n",
      "print X2.shape\n",
      "\n",
      "y2_pred = SVC().fit(X1, y1).predict(X2)\n",
      "y1_pred = SVC().fit(X2, y2).predict(X1)\n",
      "\n",
      "print np.mean([metrics.precision_score(y1, y1_pred),\n",
      "               metrics.precision_score(y2, y2_pred)])\n",
      "\n",
      "from sklearn.cross_validation import cross_val_score\n",
      "\n",
      "# Let's do a 2-fold cross-validation of the SVC estimator\n",
      "print cross_val_score(SVC(), X, y, cv=2, scoring='precision')"
     ],
     "language": "python",
     "metadata": {},
     "outputs": [
      {
       "output_type": "stream",
       "stream": "stdout",
       "text": [
        "(500, 2)\n",
        "(500, 2)\n",
        "0.794117647059\n",
        "[ 0.90909091  0.76190476]\n"
       ]
      }
     ],
     "prompt_number": 240
    },
    {
     "cell_type": "markdown",
     "metadata": {},
     "source": [
      "**Matplotlib**\n",
      "\n",
      "Matplotlib is the plotting library for the SciPy ecosystem.  \n",
      "\n",
      "More interesting: there is a new library, prettyplotlib, that wraps matplotlib with some sensible defaults to make the plots a more readable.\n",
      "\n",
      "https://github.com/olgabot/prettyplotlib\n",
      "\n",
      "** A boxplot example **"
     ]
    },
    {
     "cell_type": "code",
     "collapsed": false,
     "input": [
      "Image(\"https://raw.github.com/olgabot/prettyplotlib/master/examples/boxplot_matplotlib_default.png\")"
     ],
     "language": "python",
     "metadata": {},
     "outputs": [
      {
       "metadata": {},
       "output_type": "pyout",
       "png": "[encoded data removed]",
       "prompt_number": 66,
       "text": [
        "<IPython.core.display.Image at 0x1062ca890>"
       ]
      }
     ],
     "prompt_number": 66
    },
    {
     "cell_type": "code",
     "collapsed": false,
     "input": [
      "Image(\"https://raw.github.com/olgabot/prettyplotlib/master/examples/boxplot_prettyplotlib_default.png\")"
     ],
     "language": "python",
     "metadata": {},
     "outputs": [
      {
       "metadata": {},
       "output_type": "pyout",
       "png": "[encoded data removed]",
       "prompt_number": 67,
       "text": [
        "<IPython.core.display.Image at 0x105e8ca50>"
       ]
      }
     ],
     "prompt_number": 67
    },
    {
     "cell_type": "markdown",
     "metadata": {},
     "source": [
      "**Pandas**"
     ]
    },
    {
     "cell_type": "code",
     "collapsed": false,
     "input": [
      "from IPython.display import VimeoVideo\n",
      "VimeoVideo(\"79562736\")"
     ],
     "language": "python",
     "metadata": {},
     "outputs": [
      {
       "html": [
        "\n",
        "        <iframe\n",
        "            width=\"400\"\n",
        "            height=300\"\n",
        "            src=\"http://player.vimeo.com/video/79562736\"\n",
        "            frameborder=\"0\"\n",
        "            allowfullscreen\n",
        "        ></iframe>\n",
        "        "
       ],
       "metadata": {},
       "output_type": "pyout",
       "prompt_number": 49,
       "text": [
        "<IPython.lib.display.VimeoVideo at 0x104d65a50>"
       ]
      }
     ],
     "prompt_number": 49
    },
    {
     "cell_type": "markdown",
     "metadata": {},
     "source": [
      "**Let's try something!**\n",
      "\n",
      "I want to try out scikit learn.  Let's get a dataset and experiment with some of the algorithms.\n",
      "\n",
      "I'm getting the movielens data set, which is a collection of movie ratings by a number of users.  We're going to try to classify each user and predict whether they will like a particular movie.  We will use a few classifiers and see which ones perform better.\n",
      "\n",
      "Some of this tutorial comes from http://www.gregreda.com/2013/10/26/working-with-pandas-dataframes/"
     ]
    },
    {
     "cell_type": "code",
     "collapsed": false,
     "input": [
      "!wget http://files.grouplens.org/datasets/movielens/ml-100k.zip\n",
      "!unzip ml-100k.zip\n",
      "!cd ml-100k"
     ],
     "language": "python",
     "metadata": {},
     "outputs": [
      {
       "output_type": "stream",
       "stream": "stdout",
       "text": [
        "--2013-11-16 22:20:45--  http://files.grouplens.org/datasets/movielens/ml-100k.zip\r\n",
        "Resolving files.grouplens.org... 128.101.34.146\r\n",
        "Connecting to files.grouplens.org|128.101.34.146|:80... connected.\r\n",
        "HTTP request sent, awaiting response... "
       ]
      },
      {
       "output_type": "stream",
       "stream": "stdout",
       "text": [
        "200 OK\r\n",
        "Length: 4945826 (4.7M) [application/zip]\r\n",
        "Saving to: `ml-100k.zip'\r\n",
        "\r\n",
        "\r",
        " 0% [                                       ] 0           --.-K/s              "
       ]
      },
      {
       "output_type": "stream",
       "stream": "stdout",
       "text": [
        "\r",
        " 1% [                                       ] 76,440       360K/s              "
       ]
      },
      {
       "output_type": "stream",
       "stream": "stdout",
       "text": [
        "\r",
        " 3% [>                                      ] 192,280      445K/s              "
       ]
      },
      {
       "output_type": "stream",
       "stream": "stdout",
       "text": [
        "\r",
        " 7% [=>                                     ] 348,664      547K/s              "
       ]
      },
      {
       "output_type": "stream",
       "stream": "stdout",
       "text": [
        "\r",
        "11% [===>                                   ] 573,104      678K/s              "
       ]
      },
      {
       "output_type": "stream",
       "stream": "stdout",
       "text": [
        "\r",
        "16% [=====>                                 ] 816,368      772K/s              "
       ]
      },
      {
       "output_type": "stream",
       "stream": "stdout",
       "text": [
        "\r",
        "21% [=======>                               ] 1,075,560    846K/s              "
       ]
      },
      {
       "output_type": "stream",
       "stream": "stdout",
       "text": [
        "\r",
        "26% [=========>                             ] 1,315,928    882K/s              "
       ]
      },
      {
       "output_type": "stream",
       "stream": "stdout",
       "text": [
        "\r",
        "31% [===========>                           ] 1,579,464    926K/s              "
       ]
      },
      {
       "output_type": "stream",
       "stream": "stdout",
       "text": [
        "\r",
        "37% [=============>                         ] 1,840,104    956K/s              "
       ]
      },
      {
       "output_type": "stream",
       "stream": "stdout",
       "text": [
        "\r",
        "42% [===============>                       ] 2,090,608    969K/s              "
       ]
      },
      {
       "output_type": "stream",
       "stream": "stdout",
       "text": [
        "\r",
        "47% [=================>                     ] 2,348,352    994K/s              "
       ]
      },
      {
       "output_type": "stream",
       "stream": "stdout",
       "text": [
        "\r",
        "52% [===================>                   ] 2,588,720   1008K/s              "
       ]
      },
      {
       "output_type": "stream",
       "stream": "stdout",
       "text": [
        "\r",
        "57% [=====================>                 ] 2,843,568   1020K/s              "
       ]
      },
      {
       "output_type": "stream",
       "stream": "stdout",
       "text": [
        "\r",
        "62% [=======================>               ] 3,108,552   1.01M/s              "
       ]
      },
      {
       "output_type": "stream",
       "stream": "stdout",
       "text": [
        "\r",
        "67% [=========================>             ] 3,348,920   1.02M/s  eta 1s      "
       ]
      },
      {
       "output_type": "stream",
       "stream": "stdout",
       "text": [
        "\r",
        "72% [===========================>           ] 3,584,944   1.06M/s  eta 1s      "
       ]
      },
      {
       "output_type": "stream",
       "stream": "stdout",
       "text": [
        "\r",
        "77% [=============================>         ] 3,820,968   1.09M/s  eta 1s      "
       ]
      },
      {
       "output_type": "stream",
       "stream": "stdout",
       "text": [
        "\r",
        "81% [==============================>        ] 4,048,304   1.11M/s  eta 1s      "
       ]
      },
      {
       "output_type": "stream",
       "stream": "stdout",
       "text": [
        "\r",
        "86% [================================>      ] 4,279,984   1.13M/s  eta 1s      "
       ]
      },
      {
       "output_type": "stream",
       "stream": "stdout",
       "text": [
        "\r",
        "91% [==================================>    ] 4,532,712   1.14M/s  eta 0s      "
       ]
      },
      {
       "output_type": "stream",
       "stream": "stdout",
       "text": [
        "\r",
        "96% [====================================>  ] 4,784,664   1.14M/s  eta 0s      "
       ]
      },
      {
       "output_type": "stream",
       "stream": "stdout",
       "text": [
        "\r",
        "100%[======================================>] 4,945,826   1.13M/s   in 4.5s    \r\n",
        "\r\n",
        "2013-11-16 22:20:50 (1.05 MB/s) - `ml-100k.zip' saved [4945826/4945826]\r\n",
        "\r\n"
       ]
      },
      {
       "output_type": "stream",
       "stream": "stdout",
       "text": [
        "Archive:  ml-100k.zip\r\n",
        "   creating: ml-100k/\r\n",
        "  inflating: ml-100k/allbut.pl       \r\n",
        "  inflating: ml-100k/mku.sh          \r\n",
        "  inflating: ml-100k/README          \r\n",
        "  inflating: ml-100k/u.data          \r\n",
        "  inflating: ml-100k/u.genre         \r\n",
        "  inflating: ml-100k/u.info          \r\n",
        "  inflating: ml-100k/u.item          \r\n",
        "  inflating: ml-100k/u.occupation    \r\n",
        "  inflating: ml-100k/u.user          "
       ]
      },
      {
       "output_type": "stream",
       "stream": "stdout",
       "text": [
        "\r\n",
        "  inflating: ml-100k/u1.base         \r\n",
        "  inflating: ml-100k/u1.test         \r\n",
        "  inflating: ml-100k/u2.base         "
       ]
      },
      {
       "output_type": "stream",
       "stream": "stdout",
       "text": [
        "\r\n",
        "  inflating: ml-100k/u2.test         \r\n",
        "  inflating: ml-100k/u3.base         \r\n",
        "  inflating: ml-100k/u3.test         "
       ]
      },
      {
       "output_type": "stream",
       "stream": "stdout",
       "text": [
        "\r\n",
        "  inflating: ml-100k/u4.base         \r\n",
        "  inflating: ml-100k/u4.test         \r\n",
        "  inflating: ml-100k/u5.base         "
       ]
      },
      {
       "output_type": "stream",
       "stream": "stdout",
       "text": [
        "\r\n",
        "  inflating: ml-100k/u5.test         \r\n",
        "  inflating: ml-100k/ua.base         "
       ]
      },
      {
       "output_type": "stream",
       "stream": "stdout",
       "text": [
        "\r\n",
        "  inflating: ml-100k/ua.test         \r\n",
        "  inflating: ml-100k/ub.base         "
       ]
      },
      {
       "output_type": "stream",
       "stream": "stdout",
       "text": [
        "\r\n",
        "  inflating: ml-100k/ub.test         \r\n"
       ]
      }
     ],
     "prompt_number": 83
    },
    {
     "cell_type": "code",
     "collapsed": false,
     "input": [
      "txt = open('ml-100k/README').read()\n",
      "print txt"
     ],
     "language": "python",
     "metadata": {},
     "outputs": [
      {
       "output_type": "stream",
       "stream": "stdout",
       "text": [
        "SUMMARY & USAGE LICENSE\n",
        "=============================================\n",
        "\n",
        "MovieLens data sets were collected by the GroupLens Research Project\n",
        "at the University of Minnesota.\n",
        " \n",
        "This data set consists of:\n",
        "\t* 100,000 ratings (1-5) from 943 users on 1682 movies. \n",
        "\t* Each user has rated at least 20 movies. \n",
        "        * Simple demographic info for the users (age, gender, occupation, zip)\n",
        "\n",
        "The data was collected through the MovieLens web site\n",
        "(movielens.umn.edu) during the seven-month period from September 19th, \n",
        "1997 through April 22nd, 1998. This data has been cleaned up - users\n",
        "who had less than 20 ratings or did not have complete demographic\n",
        "information were removed from this data set. Detailed descriptions of\n",
        "the data file can be found at the end of this file.\n",
        "\n",
        "Neither the University of Minnesota nor any of the researchers\n",
        "involved can guarantee the correctness of the data, its suitability\n",
        "for any particular purpose, or the validity of results based on the\n",
        "use of the data set.  The data set may be used for any research\n",
        "purposes under the following conditions:\n",
        "\n",
        "     * The user may not state or imply any endorsement from the\n",
        "       University of Minnesota or the GroupLens Research Group.\n",
        "\n",
        "     * The user must acknowledge the use of the data set in\n",
        "       publications resulting from the use of the data set, and must\n",
        "       send us an electronic or paper copy of those publications.\n",
        "\n",
        "     * The user may not redistribute the data without separate\n",
        "       permission.\n",
        "\n",
        "     * The user may not use this information for any commercial or\n",
        "       revenue-bearing purposes without first obtaining permission\n",
        "       from a faculty member of the GroupLens Research Project at the\n",
        "       University of Minnesota.\n",
        "\n",
        "If you have any further questions or comments, please contact Jon Herlocker\n",
        "<herlocke@cs.umn.edu>. \n",
        "\n",
        "ACKNOWLEDGEMENTS\n",
        "==============================================\n",
        "\n",
        "Thanks to Al Borchers for cleaning up this data and writing the\n",
        "accompanying scripts.\n",
        "\n",
        "PUBLISHED WORK THAT HAS USED THIS DATASET\n",
        "==============================================\n",
        "\n",
        "Herlocker, J., Konstan, J., Borchers, A., Riedl, J.. An Algorithmic\n",
        "Framework for Performing Collaborative Filtering. Proceedings of the\n",
        "1999 Conference on Research and Development in Information\n",
        "Retrieval. Aug. 1999.\n",
        "\n",
        "FURTHER INFORMATION ABOUT THE GROUPLENS RESEARCH PROJECT\n",
        "==============================================\n",
        "\n",
        "The GroupLens Research Project is a research group in the Department\n",
        "of Computer Science and Engineering at the University of Minnesota.\n",
        "Members of the GroupLens Research Project are involved in many\n",
        "research projects related to the fields of information filtering,\n",
        "collaborative filtering, and recommender systems. The project is lead\n",
        "by professors John Riedl and Joseph Konstan. The project began to\n",
        "explore automated collaborative filtering in 1992, but is most well\n",
        "known for its world wide trial of an automated collaborative filtering\n",
        "system for Usenet news in 1996.  The technology developed in the\n",
        "Usenet trial formed the base for the formation of Net Perceptions,\n",
        "Inc., which was founded by members of GroupLens Research. Since then\n",
        "the project has expanded its scope to research overall information\n",
        "filtering solutions, integrating in content-based methods as well as\n",
        "improving current collaborative filtering technology.\n",
        "\n",
        "Further information on the GroupLens Research project, including\n",
        "research publications, can be found at the following web site:\n",
        "        \n",
        "        http://www.grouplens.org/\n",
        "\n",
        "GroupLens Research currently operates a movie recommender based on\n",
        "collaborative filtering:\n",
        "\n",
        "        http://www.movielens.org/\n",
        "\n",
        "DETAILED DESCRIPTIONS OF DATA FILES\n",
        "==============================================\n",
        "\n",
        "Here are brief descriptions of the data.\n",
        "\n",
        "ml-data.tar.gz   -- Compressed tar file.  To rebuild the u data files do this:\n",
        "                gunzip ml-data.tar.gz\n",
        "                tar xvf ml-data.tar\n",
        "                mku.sh\n",
        "\n",
        "u.data     -- The full u data set, 100000 ratings by 943 users on 1682 items.\n",
        "              Each user has rated at least 20 movies.  Users and items are\n",
        "              numbered consecutively from 1.  The data is randomly\n",
        "              ordered. This is a tab separated list of \n",
        "\t         user id | item id | rating | timestamp. \n",
        "              The time stamps are unix seconds since 1/1/1970 UTC   \n",
        "\n",
        "u.info     -- The number of users, items, and ratings in the u data set.\n",
        "\n",
        "u.item     -- Information about the items (movies); this is a tab separated\n",
        "              list of\n",
        "              movie id | movie title | release date | video release date |\n",
        "              IMDb URL | unknown | Action | Adventure | Animation |\n",
        "              Children's | Comedy | Crime | Documentary | Drama | Fantasy |\n",
        "              Film-Noir | Horror | Musical | Mystery | Romance | Sci-Fi |\n",
        "              Thriller | War | Western |\n",
        "              The last 19 fields are the genres, a 1 indicates the movie\n",
        "              is of that genre, a 0 indicates it is not; movies can be in\n",
        "              several genres at once.\n",
        "              The movie ids are the ones used in the u.data data set.\n",
        "\n",
        "u.genre    -- A list of the genres.\n",
        "\n",
        "u.user     -- Demographic information about the users; this is a tab\n",
        "              separated list of\n",
        "              user id | age | gender | occupation | zip code\n",
        "              The user ids are the ones used in the u.data data set.\n",
        "\n",
        "u.occupation -- A list of the occupations.\n",
        "\n",
        "u1.base    -- The data sets u1.base and u1.test through u5.base and u5.test\n",
        "u1.test       are 80%/20% splits of the u data into training and test data.\n",
        "u2.base       Each of u1, ..., u5 have disjoint test sets; this if for\n",
        "u2.test       5 fold cross validation (where you repeat your experiment\n",
        "u3.base       with each training and test set and average the results).\n",
        "u3.test       These data sets can be generated from u.data by mku.sh.\n",
        "u4.base\n",
        "u4.test\n",
        "u5.base\n",
        "u5.test\n",
        "\n",
        "ua.base    -- The data sets ua.base, ua.test, ub.base, and ub.test\n",
        "ua.test       split the u data into a training set and a test set with\n",
        "ub.base       exactly 10 ratings per user in the test set.  The sets\n",
        "ub.test       ua.test and ub.test are disjoint.  These data sets can\n",
        "              be generated from u.data by mku.sh.\n",
        "\n",
        "allbut.pl  -- The script that generates training and test sets where\n",
        "              all but n of a users ratings are in the training data.\n",
        "\n",
        "mku.sh     -- A shell script to generate all the u data sets from u.data.\n",
        "\n"
       ]
      }
     ],
     "prompt_number": 88
    },
    {
     "cell_type": "code",
     "collapsed": false,
     "input": [
      "import pandas as pd\n",
      "\n",
      "user_columns = ['user_id', 'age', 'sex', 'occupation', 'zip_code']\n",
      "users = pd.read_csv('ml-100k/u.user', names=user_columns, sep='|')\n",
      "\n",
      "rating_columns = ['user_id', 'movie_id', 'rating', 'unix_timestamp']\n",
      "ratings = pd.read_csv('ml-100k/u.data', names=rating_columns, delim_whitespace=True)\n",
      "\n",
      "movie_columns = ['movie_id', 'title', 'release_date', 'video_release_date', 'imdb_url']\n",
      "movies = pd.read_csv('ml-100k/u.item', names=movie_columns, sep='|', usecols=range(5))"
     ],
     "language": "python",
     "metadata": {},
     "outputs": [],
     "prompt_number": 158
    },
    {
     "cell_type": "code",
     "collapsed": false,
     "input": [
      "users"
     ],
     "language": "python",
     "metadata": {},
     "outputs": [
      {
       "output_type": "stream",
       "stream": "stderr",
       "text": [
        "/Users/johndowns/Applications/anaconda/lib/python2.7/site-packages/pandas/core/config.py:570: DeprecationWarning: height has been deprecated.\n",
        "\n",
        "  warnings.warn(d.msg, DeprecationWarning)\n"
       ]
      },
      {
       "html": [
        "<pre>\n",
        "&lt;class 'pandas.core.frame.DataFrame'&gt;\n",
        "Int64Index: 943 entries, 0 to 942\n",
        "Data columns (total 5 columns):\n",
        "user_id       943  non-null values\n",
        "age           943  non-null values\n",
        "sex           943  non-null values\n",
        "occupation    943  non-null values\n",
        "zip_code      943  non-null values\n",
        "dtypes: int64(2), object(3)\n",
        "</pre>"
       ],
       "metadata": {},
       "output_type": "pyout",
       "prompt_number": 159,
       "text": [
        "<class 'pandas.core.frame.DataFrame'>\n",
        "Int64Index: 943 entries, 0 to 942\n",
        "Data columns (total 5 columns):\n",
        "user_id       943  non-null values\n",
        "age           943  non-null values\n",
        "sex           943  non-null values\n",
        "occupation    943  non-null values\n",
        "zip_code      943  non-null values\n",
        "dtypes: int64(2), object(3)"
       ]
      }
     ],
     "prompt_number": 159
    },
    {
     "cell_type": "code",
     "collapsed": false,
     "input": [
      "ratings"
     ],
     "language": "python",
     "metadata": {},
     "outputs": [
      {
       "output_type": "stream",
       "stream": "stderr",
       "text": [
        "/Users/johndowns/Applications/anaconda/lib/python2.7/site-packages/pandas/core/config.py:570: DeprecationWarning: height has been deprecated.\n",
        "\n",
        "  warnings.warn(d.msg, DeprecationWarning)\n"
       ]
      },
      {
       "html": [
        "<pre>\n",
        "&lt;class 'pandas.core.frame.DataFrame'&gt;\n",
        "Int64Index: 100000 entries, 0 to 99999\n",
        "Data columns (total 4 columns):\n",
        "user_id           100000  non-null values\n",
        "movie_id          100000  non-null values\n",
        "rating            100000  non-null values\n",
        "unix_timestamp    100000  non-null values\n",
        "dtypes: int64(4)\n",
        "</pre>"
       ],
       "metadata": {},
       "output_type": "pyout",
       "prompt_number": 160,
       "text": [
        "<class 'pandas.core.frame.DataFrame'>\n",
        "Int64Index: 100000 entries, 0 to 99999\n",
        "Data columns (total 4 columns):\n",
        "user_id           100000  non-null values\n",
        "movie_id          100000  non-null values\n",
        "rating            100000  non-null values\n",
        "unix_timestamp    100000  non-null values\n",
        "dtypes: int64(4)"
       ]
      }
     ],
     "prompt_number": 160
    },
    {
     "cell_type": "code",
     "collapsed": false,
     "input": [
      "movies"
     ],
     "language": "python",
     "metadata": {},
     "outputs": [
      {
       "output_type": "stream",
       "stream": "stderr",
       "text": [
        "/Users/johndowns/Applications/anaconda/lib/python2.7/site-packages/pandas/core/config.py:570: DeprecationWarning: height has been deprecated.\n",
        "\n",
        "  warnings.warn(d.msg, DeprecationWarning)\n"
       ]
      },
      {
       "html": [
        "<pre>\n",
        "&lt;class 'pandas.core.frame.DataFrame'&gt;\n",
        "Int64Index: 1682 entries, 0 to 1681\n",
        "Data columns (total 5 columns):\n",
        "movie_id              1682  non-null values\n",
        "title                 1682  non-null values\n",
        "release_date          1681  non-null values\n",
        "video_release_date    0  non-null values\n",
        "imdb_url              1679  non-null values\n",
        "dtypes: float64(1), int64(1), object(3)\n",
        "</pre>"
       ],
       "metadata": {},
       "output_type": "pyout",
       "prompt_number": 161,
       "text": [
        "<class 'pandas.core.frame.DataFrame'>\n",
        "Int64Index: 1682 entries, 0 to 1681\n",
        "Data columns (total 5 columns):\n",
        "movie_id              1682  non-null values\n",
        "title                 1682  non-null values\n",
        "release_date          1681  non-null values\n",
        "video_release_date    0  non-null values\n",
        "imdb_url              1679  non-null values\n",
        "dtypes: float64(1), int64(1), object(3)"
       ]
      }
     ],
     "prompt_number": 161
    },
    {
     "cell_type": "code",
     "collapsed": false,
     "input": [
      "movie_ratings = pd.merge(movies, ratings)\n",
      "movie_ratings"
     ],
     "language": "python",
     "metadata": {},
     "outputs": [
      {
       "output_type": "stream",
       "stream": "stderr",
       "text": [
        "/Users/johndowns/Applications/anaconda/lib/python2.7/site-packages/pandas/core/config.py:570: DeprecationWarning: height has been deprecated.\n",
        "\n",
        "  warnings.warn(d.msg, DeprecationWarning)\n"
       ]
      },
      {
       "html": [
        "<pre>\n",
        "&lt;class 'pandas.core.frame.DataFrame'&gt;\n",
        "Int64Index: 100000 entries, 0 to 99999\n",
        "Data columns (total 8 columns):\n",
        "movie_id              100000  non-null values\n",
        "title                 100000  non-null values\n",
        "release_date          99991  non-null values\n",
        "video_release_date    0  non-null values\n",
        "imdb_url              99987  non-null values\n",
        "user_id               100000  non-null values\n",
        "rating                100000  non-null values\n",
        "unix_timestamp        100000  non-null values\n",
        "dtypes: float64(1), int64(4), object(3)\n",
        "</pre>"
       ],
       "metadata": {},
       "output_type": "pyout",
       "prompt_number": 162,
       "text": [
        "<class 'pandas.core.frame.DataFrame'>\n",
        "Int64Index: 100000 entries, 0 to 99999\n",
        "Data columns (total 8 columns):\n",
        "movie_id              100000  non-null values\n",
        "title                 100000  non-null values\n",
        "release_date          99991  non-null values\n",
        "video_release_date    0  non-null values\n",
        "imdb_url              99987  non-null values\n",
        "user_id               100000  non-null values\n",
        "rating                100000  non-null values\n",
        "unix_timestamp        100000  non-null values\n",
        "dtypes: float64(1), int64(4), object(3)"
       ]
      }
     ],
     "prompt_number": 162
    },
    {
     "cell_type": "code",
     "collapsed": false,
     "input": [
      "data = pd.merge(movie_ratings, users)\n",
      "data"
     ],
     "language": "python",
     "metadata": {},
     "outputs": [
      {
       "output_type": "stream",
       "stream": "stderr",
       "text": [
        "/Users/johndowns/Applications/anaconda/lib/python2.7/site-packages/pandas/core/config.py:570: DeprecationWarning: height has been deprecated.\n",
        "\n",
        "  warnings.warn(d.msg, DeprecationWarning)\n"
       ]
      },
      {
       "html": [
        "<pre>\n",
        "&lt;class 'pandas.core.frame.DataFrame'&gt;\n",
        "Int64Index: 100000 entries, 0 to 99999\n",
        "Data columns (total 12 columns):\n",
        "movie_id              100000  non-null values\n",
        "title                 100000  non-null values\n",
        "release_date          99991  non-null values\n",
        "video_release_date    0  non-null values\n",
        "imdb_url              99987  non-null values\n",
        "user_id               100000  non-null values\n",
        "rating                100000  non-null values\n",
        "unix_timestamp        100000  non-null values\n",
        "age                   100000  non-null values\n",
        "sex                   100000  non-null values\n",
        "occupation            100000  non-null values\n",
        "zip_code              100000  non-null values\n",
        "dtypes: float64(1), int64(5), object(6)\n",
        "</pre>"
       ],
       "metadata": {},
       "output_type": "pyout",
       "prompt_number": 163,
       "text": [
        "<class 'pandas.core.frame.DataFrame'>\n",
        "Int64Index: 100000 entries, 0 to 99999\n",
        "Data columns (total 12 columns):\n",
        "movie_id              100000  non-null values\n",
        "title                 100000  non-null values\n",
        "release_date          99991  non-null values\n",
        "video_release_date    0  non-null values\n",
        "imdb_url              99987  non-null values\n",
        "user_id               100000  non-null values\n",
        "rating                100000  non-null values\n",
        "unix_timestamp        100000  non-null values\n",
        "age                   100000  non-null values\n",
        "sex                   100000  non-null values\n",
        "occupation            100000  non-null values\n",
        "zip_code              100000  non-null values\n",
        "dtypes: float64(1), int64(5), object(6)"
       ]
      }
     ],
     "prompt_number": 163
    },
    {
     "cell_type": "code",
     "collapsed": false,
     "input": [
      "data.head()"
     ],
     "language": "python",
     "metadata": {},
     "outputs": [
      {
       "output_type": "stream",
       "stream": "stderr",
       "text": [
        "/Users/johndowns/Applications/anaconda/lib/python2.7/site-packages/pandas/core/config.py:570: DeprecationWarning: height has been deprecated.\n",
        "\n",
        "  warnings.warn(d.msg, DeprecationWarning)\n",
        "/Users/johndowns/Applications/anaconda/lib/python2.7/site-packages/pandas/core/config.py:570: DeprecationWarning: height has been deprecated.\n",
        "\n",
        "  warnings.warn(d.msg, DeprecationWarning)\n"
       ]
      },
      {
       "output_type": "stream",
       "stream": "stderr",
       "text": [
        "/Users/johndowns/Applications/anaconda/lib/python2.7/site-packages/pandas/core/config.py:570: DeprecationWarning: height has been deprecated.\n",
        "\n",
        "  warnings.warn(d.msg, DeprecationWarning)\n"
       ]
      },
      {
       "html": [
        "<div style=\"max-height:1000px;max-width:1500px;overflow:auto;\">\n",
        "<table border=\"1\" class=\"dataframe\">\n",
        "  <thead>\n",
        "    <tr style=\"text-align: right;\">\n",
        "      <th></th>\n",
        "      <th>movie_id</th>\n",
        "      <th>title</th>\n",
        "      <th>release_date</th>\n",
        "      <th>video_release_date</th>\n",
        "      <th>imdb_url</th>\n",
        "      <th>user_id</th>\n",
        "      <th>rating</th>\n",
        "      <th>unix_timestamp</th>\n",
        "      <th>age</th>\n",
        "      <th>sex</th>\n",
        "      <th>occupation</th>\n",
        "      <th>zip_code</th>\n",
        "    </tr>\n",
        "  </thead>\n",
        "  <tbody>\n",
        "    <tr>\n",
        "      <th>0</th>\n",
        "      <td> 1</td>\n",
        "      <td>      Toy Story (1995)</td>\n",
        "      <td> 01-Jan-1995</td>\n",
        "      <td>NaN</td>\n",
        "      <td> http://us.imdb.com/M/title-exact?Toy%20Story%2...</td>\n",
        "      <td> 308</td>\n",
        "      <td> 4</td>\n",
        "      <td> 887736532</td>\n",
        "      <td> 60</td>\n",
        "      <td> M</td>\n",
        "      <td> retired</td>\n",
        "      <td> 95076</td>\n",
        "    </tr>\n",
        "    <tr>\n",
        "      <th>1</th>\n",
        "      <td> 4</td>\n",
        "      <td>     Get Shorty (1995)</td>\n",
        "      <td> 01-Jan-1995</td>\n",
        "      <td>NaN</td>\n",
        "      <td> http://us.imdb.com/M/title-exact?Get%20Shorty%...</td>\n",
        "      <td> 308</td>\n",
        "      <td> 5</td>\n",
        "      <td> 887737890</td>\n",
        "      <td> 60</td>\n",
        "      <td> M</td>\n",
        "      <td> retired</td>\n",
        "      <td> 95076</td>\n",
        "    </tr>\n",
        "    <tr>\n",
        "      <th>2</th>\n",
        "      <td> 5</td>\n",
        "      <td>        Copycat (1995)</td>\n",
        "      <td> 01-Jan-1995</td>\n",
        "      <td>NaN</td>\n",
        "      <td> http://us.imdb.com/M/title-exact?Copycat%20(1995)</td>\n",
        "      <td> 308</td>\n",
        "      <td> 4</td>\n",
        "      <td> 887739608</td>\n",
        "      <td> 60</td>\n",
        "      <td> M</td>\n",
        "      <td> retired</td>\n",
        "      <td> 95076</td>\n",
        "    </tr>\n",
        "    <tr>\n",
        "      <th>3</th>\n",
        "      <td> 7</td>\n",
        "      <td> Twelve Monkeys (1995)</td>\n",
        "      <td> 01-Jan-1995</td>\n",
        "      <td>NaN</td>\n",
        "      <td> http://us.imdb.com/M/title-exact?Twelve%20Monk...</td>\n",
        "      <td> 308</td>\n",
        "      <td> 4</td>\n",
        "      <td> 887738847</td>\n",
        "      <td> 60</td>\n",
        "      <td> M</td>\n",
        "      <td> retired</td>\n",
        "      <td> 95076</td>\n",
        "    </tr>\n",
        "    <tr>\n",
        "      <th>4</th>\n",
        "      <td> 8</td>\n",
        "      <td>           Babe (1995)</td>\n",
        "      <td> 01-Jan-1995</td>\n",
        "      <td>NaN</td>\n",
        "      <td>    http://us.imdb.com/M/title-exact?Babe%20(1995)</td>\n",
        "      <td> 308</td>\n",
        "      <td> 5</td>\n",
        "      <td> 887736696</td>\n",
        "      <td> 60</td>\n",
        "      <td> M</td>\n",
        "      <td> retired</td>\n",
        "      <td> 95076</td>\n",
        "    </tr>\n",
        "  </tbody>\n",
        "</table>\n",
        "</div>"
       ],
       "metadata": {},
       "output_type": "pyout",
       "prompt_number": 164,
       "text": [
        "   movie_id                  title release_date  video_release_date  \\\n",
        "0         1       Toy Story (1995)  01-Jan-1995                 NaN   \n",
        "1         4      Get Shorty (1995)  01-Jan-1995                 NaN   \n",
        "2         5         Copycat (1995)  01-Jan-1995                 NaN   \n",
        "3         7  Twelve Monkeys (1995)  01-Jan-1995                 NaN   \n",
        "4         8            Babe (1995)  01-Jan-1995                 NaN   \n",
        "\n",
        "                                            imdb_url  user_id  rating  \\\n",
        "0  http://us.imdb.com/M/title-exact?Toy%20Story%2...      308       4   \n",
        "1  http://us.imdb.com/M/title-exact?Get%20Shorty%...      308       5   \n",
        "2  http://us.imdb.com/M/title-exact?Copycat%20(1995)      308       4   \n",
        "3  http://us.imdb.com/M/title-exact?Twelve%20Monk...      308       4   \n",
        "4     http://us.imdb.com/M/title-exact?Babe%20(1995)      308       5   \n",
        "\n",
        "   unix_timestamp  age sex occupation zip_code  \n",
        "0       887736532   60   M    retired    95076  \n",
        "1       887737890   60   M    retired    95076  \n",
        "2       887739608   60   M    retired    95076  \n",
        "3       887738847   60   M    retired    95076  \n",
        "4       887736696   60   M    retired    95076  "
       ]
      }
     ],
     "prompt_number": 164
    },
    {
     "cell_type": "markdown",
     "metadata": {},
     "source": [
      "**Some questions**"
     ]
    },
    {
     "cell_type": "code",
     "collapsed": false,
     "input": [
      "# How are ages distributed?\n",
      "data.age.hist(bins=30)\n",
      "plt.title(\"Distribution of users' ages\")\n",
      "plt.ylabel('count of users')\n",
      "plt.xlabel('age');"
     ],
     "language": "python",
     "metadata": {},
     "outputs": [
      {
       "metadata": {},
       "output_type": "display_data",
       "png": "[encoded data removed]",
       "text": [
        "<matplotlib.figure.Figure at 0x109400f10>"
       ]
      }
     ],
     "prompt_number": 165
    },
    {
     "cell_type": "code",
     "collapsed": false,
     "input": [
      "# How are occupations distributed?"
     ],
     "language": "python",
     "metadata": {},
     "outputs": [],
     "prompt_number": 166
    },
    {
     "cell_type": "code",
     "collapsed": false,
     "input": [
      "# Which movie is the highest rated?\n",
      "most_rated = data.title.value_counts()[0:10]\n",
      "print most_rated"
     ],
     "language": "python",
     "metadata": {},
     "outputs": [
      {
       "output_type": "stream",
       "stream": "stdout",
       "text": [
        "Star Wars (1977)                 583\n",
        "Contact (1997)                   509\n",
        "Fargo (1996)                     508\n",
        "Return of the Jedi (1983)        507\n",
        "Liar Liar (1997)                 485\n",
        "English Patient, The (1996)      481\n",
        "Scream (1996)                    478\n",
        "Toy Story (1995)                 452\n",
        "Air Force One (1997)             431\n",
        "Independence Day (ID4) (1996)    429\n",
        "dtype: int64\n"
       ]
      }
     ],
     "prompt_number": 168
    },
    {
     "cell_type": "code",
     "collapsed": false,
     "input": [
      "# What movie is the most popular"
     ],
     "language": "python",
     "metadata": {},
     "outputs": []
    },
    {
     "cell_type": "code",
     "collapsed": false,
     "input": [
      "# How many movies have less than 100 ratings"
     ],
     "language": "python",
     "metadata": {},
     "outputs": []
    },
    {
     "cell_type": "code",
     "collapsed": false,
     "input": [
      "# Remove movies with less than 100 ratings from the dataset"
     ],
     "language": "python",
     "metadata": {},
     "outputs": []
    },
    {
     "cell_type": "code",
     "collapsed": false,
     "input": [
      "# Extra Credit: How would we go about making a recommender system based on this data set?\n",
      "#Hint:\n",
      "VimeoVideo('64445499')"
     ],
     "language": "python",
     "metadata": {},
     "outputs": [
      {
       "html": [
        "\n",
        "        <iframe\n",
        "            width=\"400\"\n",
        "            height=300\"\n",
        "            src=\"http://player.vimeo.com/video/64445499\"\n",
        "            frameborder=\"0\"\n",
        "            allowfullscreen\n",
        "        ></iframe>\n",
        "        "
       ],
       "metadata": {},
       "output_type": "pyout",
       "prompt_number": 216,
       "text": [
        "<IPython.lib.display.VimeoVideo at 0x115906b90>"
       ]
      }
     ],
     "prompt_number": 216
    },
    {
     "cell_type": "markdown",
     "metadata": {},
     "source": [
      "**Generators**\n",
      "\n",
      "Watch this! It was my favorite talk from PyData."
     ]
    },
    {
     "cell_type": "code",
     "collapsed": false,
     "input": [
      "VimeoVideo(\"79535180\")"
     ],
     "language": "python",
     "metadata": {},
     "outputs": [
      {
       "html": [
        "\n",
        "        <iframe\n",
        "            width=\"400\"\n",
        "            height=300\"\n",
        "            src=\"http://player.vimeo.com/video/79535180\"\n",
        "            frameborder=\"0\"\n",
        "            allowfullscreen\n",
        "        ></iframe>\n",
        "        "
       ],
       "metadata": {},
       "output_type": "pyout",
       "prompt_number": 74,
       "text": [
        "<IPython.lib.display.VimeoVideo at 0x1062fddd0>"
       ]
      }
     ],
     "prompt_number": 74
    },
    {
     "cell_type": "raw",
     "metadata": {},
     "source": [
      "Some material taken from:\n",
      "    \n",
      "    https://github.com/jakevdp/2013_fall_ASTR599/\n",
      "\n",
      "    http://www.gregreda.com/2013/10/26/working-with-pandas-dataframes/\n",
      "        \n",
      "    "
     ]
    }
   ],
   "metadata": {}
  }
 ]
}